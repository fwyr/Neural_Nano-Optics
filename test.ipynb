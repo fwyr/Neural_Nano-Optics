{
 "cells": [
  {
   "cell_type": "markdown",
   "metadata": {},
   "source": [
    "## Inference Code for 'Neural Nano-Optics for High-quality Thin Lens Imaging'\n",
    "\n",
    "#### This notebook can be used to produce the experimental reconstructions shown in the manuscript and in the supplemental information."
   ]
  },
  {
   "cell_type": "code",
   "execution_count": 1,
   "metadata": {},
   "outputs": [],
   "source": [
    "import tensorflow as tf\n",
    "# import keras\n",
    "import numpy as np\n",
    "from networks.select import select_G\n",
    "from args import parse_args\n",
    "import metasurface.solver as solver\n",
    "import metasurface.conv as conv\n",
    "import matplotlib.pyplot as plt\n",
    "import sys"
   ]
  },
  {
   "cell_type": "code",
   "execution_count": 2,
   "metadata": {},
   "outputs": [
    {
     "name": "stdout",
     "output_type": "stream",
     "text": [
      "Namespace(train_dir='.', test_dir='.', save_dir='.', save_freq=1000, log_freq=500, ckpt_dir='experimental/ckpt/', max_to_keep=2, loss_mode='L1', batch_weights=[1.0], Norm_loss_weight=1.0, P_loss_weight=0.0, Spatial_loss_weight=0.0, vgg_layers='block2_conv2,block3_conv2', steps=1000000000, aug_rotate=False, real_psf='./experimental/data/psf/psf.npy', psf_mode='REAL_PSF', conv_mode='REAL', conv='full_size', do_taper=True, offset=True, normalize_psf=False, theta_base=[0.0, 5.0, 10.0, 15.0], num_coeffs=8, use_general_phase=False, metasurface='zeros', s1=0.0009, s2=0.0014, alpha=270.176968209, target_wavelength=5.11e-07, bound_val=1000.0, a_poisson=4e-05, b_sqrt=1e-05, mag=8.1, Phase_iters=1, Phase_lr=0.005, Phase_beta1=0.9, G_iters=1, G_lr=0.0001, G_beta1=0.9, G_network='FP', snr_opt=False, snr_init=4.0)\n"
     ]
    }
   ],
   "source": [
    "# Set up the arguments for real inference\n",
    "sys.argv=['','--train_dir','.',\\\n",
    "             '--test_dir' ,'.',\\\n",
    "             '--save_dir' ,'.',\\\n",
    "             '--ckpt_dir' ,'experimental/ckpt/',\\\n",
    "             '--real_psf' ,'./experimental/data/psf/psf.npy',\\\n",
    "             '--psf_mode' ,'REAL_PSF',\\\n",
    "             '--conv_mode','REAL',\\\n",
    "             '--conv'     ,'full_size']\n",
    "args = parse_args()"
   ]
  },
  {
   "cell_type": "code",
   "execution_count": 3,
   "metadata": {},
   "outputs": [
    {
     "name": "stdout",
     "output_type": "stream",
     "text": [
      "def phase_func(x,a2,a4,a6,a8,a10,a12,a14,a16): return a2*x**2 + a4*x**4 + a6*x**6 + a8*x**8 + a10*x**10 + a12*x**12 + a14*x**14 + a16*x**16\n",
      "360\n",
      "Image width: 720\n",
      "PSF width: 360\n",
      "Load width: 1440\n",
      "Network width: 1080\n",
      "Out width: 720\n"
     ]
    },
    {
     "ename": "ValueError",
     "evalue": "A KerasTensor cannot be used as input to a TensorFlow function. A KerasTensor is a symbolic placeholder for a shape and dtype, used when constructing Keras Functional models or Keras Functions. You can only use it as input to a Keras layer or a Keras operation (from the namespaces `keras.layers` and `keras.operations`). You are likely doing something like:\n\n```\nx = Input(...)\n...\ntf_fn(x)  # Invalid.\n```\n\nWhat you should do instead is wrap `tf_fn` in a layer:\n\n```\nclass MyLayer(Layer):\n    def call(self, x):\n        return tf_fn(x)\n\nx = MyLayer()(x)\n```\n",
     "output_type": "error",
     "traceback": [
      "\u001b[0;31m---------------------------------------------------------------------------\u001b[0m",
      "\u001b[0;31mValueError\u001b[0m                                Traceback (most recent call last)",
      "Cell \u001b[0;32mIn[3], line 7\u001b[0m\n\u001b[1;32m      4\u001b[0m params[\u001b[38;5;124m'\u001b[39m\u001b[38;5;124mdeconv_fn\u001b[39m\u001b[38;5;124m'\u001b[39m] \u001b[38;5;241m=\u001b[39m conv\u001b[38;5;241m.\u001b[39mdeconvolution_tf(params, args)\n\u001b[1;32m      6\u001b[0m snr \u001b[38;5;241m=\u001b[39m tf\u001b[38;5;241m.\u001b[39mVariable(args\u001b[38;5;241m.\u001b[39msnr_init, dtype\u001b[38;5;241m=\u001b[39mtf\u001b[38;5;241m.\u001b[39mfloat32)\n\u001b[0;32m----> 7\u001b[0m G \u001b[38;5;241m=\u001b[39m \u001b[43mselect_G\u001b[49m\u001b[43m(\u001b[49m\u001b[43mparams\u001b[49m\u001b[43m,\u001b[49m\u001b[43m \u001b[49m\u001b[43margs\u001b[49m\u001b[43m)\u001b[49m\n\u001b[1;32m      8\u001b[0m checkpoint \u001b[38;5;241m=\u001b[39m tf\u001b[38;5;241m.\u001b[39mtrain\u001b[38;5;241m.\u001b[39mCheckpoint(G\u001b[38;5;241m=\u001b[39mG, snr\u001b[38;5;241m=\u001b[39msnr)\n\u001b[1;32m     10\u001b[0m status \u001b[38;5;241m=\u001b[39m checkpoint\u001b[38;5;241m.\u001b[39mrestore(tf\u001b[38;5;241m.\u001b[39mtrain\u001b[38;5;241m.\u001b[39mlatest_checkpoint(args\u001b[38;5;241m.\u001b[39mckpt_dir, latest_filename\u001b[38;5;241m=\u001b[39m\u001b[38;5;28;01mNone\u001b[39;00m))\n",
      "File \u001b[0;32m~/Desktop/code/Neural_Nano-Optics/networks/select.py:8\u001b[0m, in \u001b[0;36mselect_G\u001b[0;34m(params, args)\u001b[0m\n\u001b[1;32m      6\u001b[0m \u001b[38;5;28;01mdef\u001b[39;00m \u001b[38;5;21mselect_G\u001b[39m(params, args):\n\u001b[1;32m      7\u001b[0m     \u001b[38;5;28;01mif\u001b[39;00m args\u001b[38;5;241m.\u001b[39mG_network \u001b[38;5;241m==\u001b[39m \u001b[38;5;124m'\u001b[39m\u001b[38;5;124mFP\u001b[39m\u001b[38;5;124m'\u001b[39m:\n\u001b[0;32m----> 8\u001b[0m         \u001b[38;5;28;01mreturn\u001b[39;00m \u001b[43mFP\u001b[49m\u001b[43m(\u001b[49m\u001b[43mparams\u001b[49m\u001b[43m,\u001b[49m\u001b[43m \u001b[49m\u001b[43margs\u001b[49m\u001b[43m)\u001b[49m\n\u001b[1;32m      9\u001b[0m     \u001b[38;5;28;01melif\u001b[39;00m args\u001b[38;5;241m.\u001b[39mG_network \u001b[38;5;241m==\u001b[39m \u001b[38;5;124m'\u001b[39m\u001b[38;5;124mWiener\u001b[39m\u001b[38;5;124m'\u001b[39m:\n\u001b[1;32m     10\u001b[0m         \u001b[38;5;28;01mreturn\u001b[39;00m Wiener(params, args)\n",
      "File \u001b[0;32m~/Desktop/code/Neural_Nano-Optics/networks/G/FP.py:103\u001b[0m, in \u001b[0;36mFP\u001b[0;34m(params, args)\u001b[0m\n\u001b[1;32m    100\u001b[0m ew_4x  \u001b[38;5;241m=\u001b[39m tf\u001b[38;5;241m.\u001b[39mkeras\u001b[38;5;241m.\u001b[39mlayers\u001b[38;5;241m.\u001b[39mInput(shape\u001b[38;5;241m=\u001b[39m[h\u001b[38;5;241m/\u001b[39m\u001b[38;5;241m/\u001b[39m\u001b[38;5;241m4\u001b[39m,w\u001b[38;5;241m/\u001b[39m\u001b[38;5;241m/\u001b[39m\u001b[38;5;241m4\u001b[39m,\u001b[38;5;241m3\u001b[39m])\n\u001b[1;32m    102\u001b[0m \u001b[38;5;66;03m## Feature Extractor\u001b[39;00m\n\u001b[0;32m--> 103\u001b[0m deconv0, deconv1, deconv2, edge0, edge1, edge2 \u001b[38;5;241m=\u001b[39m DebugLayer()(inputs, \u001b[43mtf\u001b[49m\u001b[38;5;241;43m.\u001b[39;49m\u001b[43mmath\u001b[49m\u001b[38;5;241;43m.\u001b[39;49m\u001b[43mpow\u001b[49m\u001b[43m(\u001b[49m\u001b[38;5;241;43m10.0\u001b[39;49m\u001b[43m,\u001b[49m\u001b[43m \u001b[49m\u001b[43msnr\u001b[49m\u001b[43m)\u001b[49m, otf_1x, ew_1x, otf_2x, ew_2x, otf_4x, ew_4x, params, args)\n\u001b[1;32m    104\u001b[0m side \u001b[38;5;241m=\u001b[39m (h \u001b[38;5;241m-\u001b[39m params[\u001b[38;5;124m'\u001b[39m\u001b[38;5;124mout_width\u001b[39m\u001b[38;5;124m'\u001b[39m]) \u001b[38;5;241m/\u001b[39m\u001b[38;5;241m/\u001b[39m \u001b[38;5;241m2\u001b[39m\n\u001b[1;32m    105\u001b[0m deconv0 \u001b[38;5;241m=\u001b[39m deconv0[:,side:\u001b[38;5;241m-\u001b[39mside,side:\u001b[38;5;241m-\u001b[39mside,:]\n",
      "File \u001b[0;32m/opt/miniconda3/lib/python3.11/site-packages/tensorflow/python/util/traceback_utils.py:153\u001b[0m, in \u001b[0;36mfilter_traceback.<locals>.error_handler\u001b[0;34m(*args, **kwargs)\u001b[0m\n\u001b[1;32m    151\u001b[0m \u001b[38;5;28;01mexcept\u001b[39;00m \u001b[38;5;167;01mException\u001b[39;00m \u001b[38;5;28;01mas\u001b[39;00m e:\n\u001b[1;32m    152\u001b[0m   filtered_tb \u001b[38;5;241m=\u001b[39m _process_traceback_frames(e\u001b[38;5;241m.\u001b[39m__traceback__)\n\u001b[0;32m--> 153\u001b[0m   \u001b[38;5;28;01mraise\u001b[39;00m e\u001b[38;5;241m.\u001b[39mwith_traceback(filtered_tb) \u001b[38;5;28;01mfrom\u001b[39;00m \u001b[38;5;28;01mNone\u001b[39;00m\n\u001b[1;32m    154\u001b[0m \u001b[38;5;28;01mfinally\u001b[39;00m:\n\u001b[1;32m    155\u001b[0m   \u001b[38;5;28;01mdel\u001b[39;00m filtered_tb\n",
      "File \u001b[0;32m/opt/miniconda3/lib/python3.11/site-packages/keras/src/backend/common/keras_tensor.py:138\u001b[0m, in \u001b[0;36mKerasTensor.__tf_tensor__\u001b[0;34m(self, dtype, name)\u001b[0m\n\u001b[1;32m    137\u001b[0m \u001b[38;5;28;01mdef\u001b[39;00m \u001b[38;5;21m__tf_tensor__\u001b[39m(\u001b[38;5;28mself\u001b[39m, dtype\u001b[38;5;241m=\u001b[39m\u001b[38;5;28;01mNone\u001b[39;00m, name\u001b[38;5;241m=\u001b[39m\u001b[38;5;28;01mNone\u001b[39;00m):\n\u001b[0;32m--> 138\u001b[0m     \u001b[38;5;28;01mraise\u001b[39;00m \u001b[38;5;167;01mValueError\u001b[39;00m(\n\u001b[1;32m    139\u001b[0m         \u001b[38;5;124m\"\u001b[39m\u001b[38;5;124mA KerasTensor cannot be used as input to a TensorFlow function. \u001b[39m\u001b[38;5;124m\"\u001b[39m\n\u001b[1;32m    140\u001b[0m         \u001b[38;5;124m\"\u001b[39m\u001b[38;5;124mA KerasTensor is a symbolic placeholder for a shape and dtype, \u001b[39m\u001b[38;5;124m\"\u001b[39m\n\u001b[1;32m    141\u001b[0m         \u001b[38;5;124m\"\u001b[39m\u001b[38;5;124mused when constructing Keras Functional models \u001b[39m\u001b[38;5;124m\"\u001b[39m\n\u001b[1;32m    142\u001b[0m         \u001b[38;5;124m\"\u001b[39m\u001b[38;5;124mor Keras Functions. You can only use it as input to a Keras layer \u001b[39m\u001b[38;5;124m\"\u001b[39m\n\u001b[1;32m    143\u001b[0m         \u001b[38;5;124m\"\u001b[39m\u001b[38;5;124mor a Keras operation (from the namespaces `keras.layers` \u001b[39m\u001b[38;5;124m\"\u001b[39m\n\u001b[1;32m    144\u001b[0m         \u001b[38;5;124m\"\u001b[39m\u001b[38;5;124mand `keras.operations`). \u001b[39m\u001b[38;5;124m\"\u001b[39m\n\u001b[1;32m    145\u001b[0m         \u001b[38;5;124m\"\u001b[39m\u001b[38;5;124mYou are likely doing something like:\u001b[39m\u001b[38;5;130;01m\\n\u001b[39;00m\u001b[38;5;130;01m\\n\u001b[39;00m\u001b[38;5;124m\"\u001b[39m\n\u001b[1;32m    146\u001b[0m         \u001b[38;5;124m\"\u001b[39m\u001b[38;5;124m```\u001b[39m\u001b[38;5;130;01m\\n\u001b[39;00m\u001b[38;5;124m\"\u001b[39m\n\u001b[1;32m    147\u001b[0m         \u001b[38;5;124m\"\u001b[39m\u001b[38;5;124mx = Input(...)\u001b[39m\u001b[38;5;130;01m\\n\u001b[39;00m\u001b[38;5;124m\"\u001b[39m\n\u001b[1;32m    148\u001b[0m         \u001b[38;5;124m\"\u001b[39m\u001b[38;5;124m...\u001b[39m\u001b[38;5;130;01m\\n\u001b[39;00m\u001b[38;5;124m\"\u001b[39m\n\u001b[1;32m    149\u001b[0m         \u001b[38;5;124m\"\u001b[39m\u001b[38;5;124mtf_fn(x)  # Invalid.\u001b[39m\u001b[38;5;130;01m\\n\u001b[39;00m\u001b[38;5;124m\"\u001b[39m\n\u001b[1;32m    150\u001b[0m         \u001b[38;5;124m\"\u001b[39m\u001b[38;5;124m```\u001b[39m\u001b[38;5;130;01m\\n\u001b[39;00m\u001b[38;5;130;01m\\n\u001b[39;00m\u001b[38;5;124m\"\u001b[39m\n\u001b[1;32m    151\u001b[0m         \u001b[38;5;124m\"\u001b[39m\u001b[38;5;124mWhat you should do instead is wrap `tf_fn` in a layer:\u001b[39m\u001b[38;5;130;01m\\n\u001b[39;00m\u001b[38;5;130;01m\\n\u001b[39;00m\u001b[38;5;124m\"\u001b[39m\n\u001b[1;32m    152\u001b[0m         \u001b[38;5;124m\"\u001b[39m\u001b[38;5;124m```\u001b[39m\u001b[38;5;130;01m\\n\u001b[39;00m\u001b[38;5;124m\"\u001b[39m\n\u001b[1;32m    153\u001b[0m         \u001b[38;5;124m\"\u001b[39m\u001b[38;5;124mclass MyLayer(Layer):\u001b[39m\u001b[38;5;130;01m\\n\u001b[39;00m\u001b[38;5;124m\"\u001b[39m\n\u001b[1;32m    154\u001b[0m         \u001b[38;5;124m\"\u001b[39m\u001b[38;5;124m    def call(self, x):\u001b[39m\u001b[38;5;130;01m\\n\u001b[39;00m\u001b[38;5;124m\"\u001b[39m\n\u001b[1;32m    155\u001b[0m         \u001b[38;5;124m\"\u001b[39m\u001b[38;5;124m        return tf_fn(x)\u001b[39m\u001b[38;5;130;01m\\n\u001b[39;00m\u001b[38;5;130;01m\\n\u001b[39;00m\u001b[38;5;124m\"\u001b[39m\n\u001b[1;32m    156\u001b[0m         \u001b[38;5;124m\"\u001b[39m\u001b[38;5;124mx = MyLayer()(x)\u001b[39m\u001b[38;5;130;01m\\n\u001b[39;00m\u001b[38;5;124m\"\u001b[39m\n\u001b[1;32m    157\u001b[0m         \u001b[38;5;124m\"\u001b[39m\u001b[38;5;124m```\u001b[39m\u001b[38;5;130;01m\\n\u001b[39;00m\u001b[38;5;124m\"\u001b[39m\n\u001b[1;32m    158\u001b[0m     )\n",
      "\u001b[0;31mValueError\u001b[0m: A KerasTensor cannot be used as input to a TensorFlow function. A KerasTensor is a symbolic placeholder for a shape and dtype, used when constructing Keras Functional models or Keras Functions. You can only use it as input to a Keras layer or a Keras operation (from the namespaces `keras.layers` and `keras.operations`). You are likely doing something like:\n\n```\nx = Input(...)\n...\ntf_fn(x)  # Invalid.\n```\n\nWhat you should do instead is wrap `tf_fn` in a layer:\n\n```\nclass MyLayer(Layer):\n    def call(self, x):\n        return tf_fn(x)\n\nx = MyLayer()(x)\n```\n"
     ]
    }
   ],
   "source": [
    "# Initialize and restore deconvolution method\n",
    "params = solver.initialize_params(args)\n",
    "params['conv_fn'] = conv.convolution_tf(params, args)\n",
    "params['deconv_fn'] = conv.deconvolution_tf(params, args)\n",
    "\n",
    "snr = tf.Variable(args.snr_init, dtype=tf.float32)\n",
    "G = select_G(params, args)\n",
    "checkpoint = tf.train.Checkpoint(G=G, snr=snr)\n",
    "\n",
    "status = checkpoint.restore(tf.train.latest_checkpoint(args.ckpt_dir, latest_filename=None))\n",
    "status.expect_partial()"
   ]
  },
  {
   "cell_type": "markdown",
   "metadata": {},
   "source": [
    "# Perform deconvolution"
   ]
  },
  {
   "cell_type": "code",
   "execution_count": null,
   "metadata": {},
   "outputs": [],
   "source": [
    "# Check that the dimensions agree with experimental captures\n",
    "assert(params['image_width'] == 720)\n",
    "assert(params['psf_width'] == 360)\n",
    "assert(params['network_width'] == 1080)"
   ]
  },
  {
   "cell_type": "code",
   "execution_count": null,
   "metadata": {},
   "outputs": [],
   "source": [
    "# Load in experimentally measured PSFs\n",
    "psf = (np.load('./experimental/data/psf/psf.npy'))\n",
    "psf = tf.constant(psf)\n",
    "psf = tf.image.resize_with_crop_or_pad(psf, params['psf_width'], params['psf_width'])\n",
    "psf = psf / tf.reduce_sum(psf, axis=(1,2), keepdims=True)"
   ]
  },
  {
   "cell_type": "code",
   "execution_count": null,
   "metadata": {},
   "outputs": [],
   "source": [
    "def reconstruct(img_name, psf, snr, G):\n",
    "    img = np.load(img_name)\n",
    "    _, G_img, _ = params['deconv_fn'](img, psf, snr, G, training=False)\n",
    "    G_img_ = G_img.numpy()[0,:,:,:]\n",
    "\n",
    "    # Vignette Correct\n",
    "    vig_factor = np.load('experimental/data/vignette_factor.npy')[0,:,:,:]\n",
    "    G_img_ = G_img_ * vig_factor\n",
    "    \n",
    "    # Gain\n",
    "    G_img_ = G_img_ * 1.2\n",
    "    G_img_[G_img_ > 1.0] = 1.0\n",
    "\n",
    "    # Contrast Normalization\n",
    "    minval = np.percentile(G_img_, 5)\n",
    "    maxval = np.percentile(G_img_, 95)\n",
    "    G_img_ = np.clip(G_img_, minval, maxval)\n",
    "    G_img_ = (G_img_ - minval) / (maxval - minval)\n",
    "    G_img_[G_img_ > 1.0] = 1.0\n",
    "\n",
    "    plt.figure(figsize=(6,6))\n",
    "    plt.imshow(G_img_)"
   ]
  },
  {
   "cell_type": "markdown",
   "metadata": {},
   "source": [
    "### Reconstruct Images"
   ]
  },
  {
   "cell_type": "code",
   "execution_count": null,
   "metadata": {},
   "outputs": [],
   "source": [
    "# Figure 3\n",
    "reconstruct('./experimental/data/captures/138301.npy', psf, snr, G)\n",
    "reconstruct('./experimental/data/captures/102302.npy', psf, snr, G)\n",
    "reconstruct('./experimental/data/captures/110802.npy', psf, snr, G)"
   ]
  }
 ],
 "metadata": {
  "kernelspec": {
   "display_name": "base",
   "language": "python",
   "name": "python3"
  },
  "language_info": {
   "codemirror_mode": {
    "name": "ipython",
    "version": 3
   },
   "file_extension": ".py",
   "mimetype": "text/x-python",
   "name": "python",
   "nbconvert_exporter": "python",
   "pygments_lexer": "ipython3",
   "version": "3.11.9"
  }
 },
 "nbformat": 4,
 "nbformat_minor": 4
}
